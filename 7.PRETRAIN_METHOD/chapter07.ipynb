{
  "nbformat": 4,
  "nbformat_minor": 0,
  "metadata": {
    "colab": {
      "name": "chapter07.ipynb",
      "private_outputs": true,
      "provenance": [],
      "authorship_tag": "ABX9TyPFFRO4uqfuvWn48Apmh4eG",
      "include_colab_link": true
    },
    "kernelspec": {
      "name": "python3",
      "display_name": "Python 3"
    },
    "language_info": {
      "name": "python"
    }
  },
  "cells": [
    {
      "cell_type": "markdown",
      "metadata": {
        "id": "view-in-github",
        "colab_type": "text"
      },
      "source": [
        "<a href=\"https://colab.research.google.com/github/waltechel/tensorflow-ml-nlp-tf2/blob/master/7.PRETRAIN_METHOD/chapter07.ipynb\" target=\"_parent\"><img src=\"https://colab.research.google.com/assets/colab-badge.svg\" alt=\"Open In Colab\"/></a>"
      ]
    },
    {
      "cell_type": "markdown",
      "metadata": {
        "id": "8flEnxqUunT5"
      },
      "source": [
        "# chapter07 사전학습 모델"
      ]
    },
    {
      "cell_type": "markdown",
      "metadata": {
        "id": "qanyt9FBuwIV"
      },
      "source": [
        "## 01 버트"
      ]
    },
    {
      "cell_type": "code",
      "metadata": {
        "id": "C2NM5ER8uJg-"
      },
      "source": [
        ""
      ],
      "execution_count": null,
      "outputs": []
    }
  ]
}