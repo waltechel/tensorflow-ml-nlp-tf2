{
  "nbformat": 4,
  "nbformat_minor": 0,
  "metadata": {
    "colab": {
      "name": "chapter04.ipynb",
      "private_outputs": true,
      "provenance": [],
      "authorship_tag": "ABX9TyO7hr6cORyHn0tMRhEyxE0M",
      "include_colab_link": true
    },
    "kernelspec": {
      "name": "python3",
      "display_name": "Python 3"
    },
    "language_info": {
      "name": "python"
    }
  },
  "cells": [
    {
      "cell_type": "markdown",
      "metadata": {
        "id": "view-in-github",
        "colab_type": "text"
      },
      "source": [
        "<a href=\"https://colab.research.google.com/github/waltechel/tensorflow-ml-nlp-tf2/blob/master/colab/chapter04.ipynb\" target=\"_parent\"><img src=\"https://colab.research.google.com/assets/colab-badge.svg\" alt=\"Open In Colab\"/></a>"
      ]
    },
    {
      "cell_type": "markdown",
      "metadata": {
        "id": "B-DXUIR62X27"
      },
      "source": [
        "# 0 "
      ]
    },
    {
      "cell_type": "code",
      "metadata": {
        "id": "jKMRhN-v1zX-"
      },
      "source": [
        ""
      ],
      "execution_count": null,
      "outputs": []
    }
  ]
}