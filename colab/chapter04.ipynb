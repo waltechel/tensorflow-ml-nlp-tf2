{
  "nbformat": 4,
  "nbformat_minor": 0,
  "metadata": {
    "colab": {
      "name": "chapter04.ipynb",
      "private_outputs": true,
      "provenance": [],
      "authorship_tag": "ABX9TyMNJ0n4p/y4sLXO6iYH7hp5",
      "include_colab_link": true
    },
    "kernelspec": {
      "name": "python3",
      "display_name": "Python 3"
    },
    "language_info": {
      "name": "python"
    }
  },
  "cells": [
    {
      "cell_type": "markdown",
      "metadata": {
        "id": "view-in-github",
        "colab_type": "text"
      },
      "source": [
        "<a href=\"https://colab.research.google.com/github/waltechel/tensorflow-ml-nlp-tf2/blob/master/colab/chapter04.ipynb\" target=\"_parent\"><img src=\"https://colab.research.google.com/assets/colab-badge.svg\" alt=\"Open In Colab\"/></a>"
      ]
    },
    {
      "cell_type": "markdown",
      "metadata": {
        "id": "B-DXUIR62X27"
      },
      "source": [
        "# 04 텍스트 분류"
      ]
    },
    {
      "cell_type": "markdown",
      "metadata": {
        "id": "7H6J9sUSCNMh"
      },
      "source": [
        "## 01 영어 텍스트 분류\n"
      ]
    },
    {
      "cell_type": "code",
      "metadata": {
        "id": "NHmNBi-zC20b"
      },
      "source": [
        ""
      ],
      "execution_count": null,
      "outputs": []
    },
    {
      "cell_type": "markdown",
      "metadata": {
        "id": "Y1MAbRLeCYsU"
      },
      "source": [
        "### 문제 소개\n"
      ]
    },
    {
      "cell_type": "code",
      "metadata": {
        "id": "Uu34NzBdC8QX"
      },
      "source": [
        "!kaggle competitions download -c word2vec-nlp-tutorial"
      ],
      "execution_count": null,
      "outputs": []
    },
    {
      "cell_type": "code",
      "metadata": {
        "id": "epyBFEdrDCNZ"
      },
      "source": [
        "ls"
      ],
      "execution_count": null,
      "outputs": []
    },
    {
      "cell_type": "code",
      "metadata": {
        "id": "4eyRbmG2Dqi1"
      },
      "source": [
        "cd .."
      ],
      "execution_count": null,
      "outputs": []
    },
    {
      "cell_type": "code",
      "metadata": {
        "id": "k78c5ss2Duuu"
      },
      "source": [
        "ls"
      ],
      "execution_count": null,
      "outputs": []
    },
    {
      "cell_type": "code",
      "metadata": {
        "id": "UXrn_Aa9DxAf"
      },
      "source": [
        "!mkdir notebooks"
      ],
      "execution_count": null,
      "outputs": []
    },
    {
      "cell_type": "code",
      "metadata": {
        "id": "XjpTh65JD06D"
      },
      "source": [
        "cd notebooks"
      ],
      "execution_count": null,
      "outputs": []
    },
    {
      "cell_type": "code",
      "metadata": {
        "id": "3OE4VzkxD3Dq"
      },
      "source": [
        "import zipfile"
      ],
      "execution_count": null,
      "outputs": []
    },
    {
      "cell_type": "markdown",
      "metadata": {
        "id": "t9RFgCr3EM4v"
      },
      "source": [
        "- 여기서 파일을 따로 받아야 한다."
      ]
    },
    {
      "cell_type": "code",
      "metadata": {
        "id": "xpGOzragD9Jo"
      },
      "source": [
        "DATA_IN_PATH = './data_in/'\n",
        "\n",
        "file_list = ['labeledTrainData.tsv.zip', 'unlabeledTrainData.tsv.zip', 'testData.tsv.zip']\n",
        "\n",
        "for file in file_list:\n",
        "  zipRef = zipfile.ZipFile(DATA_IN_PATH + file, 'r')\n",
        "  zipRef.extractall(DATA_IN_PATH)\n",
        "  zipRef.close()"
      ],
      "execution_count": null,
      "outputs": []
    },
    {
      "cell_type": "code",
      "metadata": {
        "id": "8XbE76daGQ-w"
      },
      "source": [
        "import numpy as np\n",
        "import pandas as pd\n",
        "import os\n",
        "import matplotlib.pyplot as plt\n",
        "import seaborn as sns\n",
        "%matplotlib inline"
      ],
      "execution_count": null,
      "outputs": []
    },
    {
      "cell_type": "code",
      "metadata": {
        "id": "L06iMkZfGcNE"
      },
      "source": [
        "train_data = pd.read_csv(DATA_IN_PATH + \"labeledTrainData.tsv\", header=0, delimiter=\"\\t\", quoting=3)"
      ],
      "execution_count": null,
      "outputs": []
    },
    {
      "cell_type": "code",
      "metadata": {
        "id": "TfvKQVckGuTa"
      },
      "source": [
        "train_data.head()"
      ],
      "execution_count": null,
      "outputs": []
    },
    {
      "cell_type": "code",
      "metadata": {
        "id": "HR34p5hrGxVs"
      },
      "source": [
        "!pip install wordcloud"
      ],
      "execution_count": null,
      "outputs": []
    },
    {
      "cell_type": "code",
      "metadata": {
        "id": "J_lMR1_6HapD"
      },
      "source": [
        "from wordcloud import WordCloud\n",
        "cloud = WordCloud(width=800, height=600).generate(\" \".join(train_data['review']))\n",
        "plt.figure(figsize=(20,15))\n",
        "plt.imshow(cloud)\n",
        "plt.axis('off')"
      ],
      "execution_count": null,
      "outputs": []
    },
    {
      "cell_type": "code",
      "metadata": {
        "id": "53hOz3OeHzwo"
      },
      "source": [
        "fig, axe = plt.subplots(ncols=1)\n",
        "fig.set_size_inches(6, 3)\n",
        "sns.countplot(train_data['sentiment'])"
      ],
      "execution_count": null,
      "outputs": []
    },
    {
      "cell_type": "markdown",
      "metadata": {
        "id": "AL2-uzW7Ccoh"
      },
      "source": [
        "### 데이터 분석 및 전처리\n"
      ]
    },
    {
      "cell_type": "code",
      "metadata": {
        "id": "WmR5GEQBHxoy"
      },
      "source": [
        "import re\n",
        "import json\n",
        "import pandas as pd\n",
        "import numpy as np\n",
        "from bs4 import BeautifulSoup\n",
        "from nltk.corpus import stopwords\n",
        "from tensorflow.python.keras.preprocessing.sequence import pad_sequences\n",
        "from tensorflow.python.keras.preprocessing.text import Tokenizer"
      ],
      "execution_count": null,
      "outputs": []
    },
    {
      "cell_type": "code",
      "metadata": {
        "id": "IefdsQH8Iv4F"
      },
      "source": [
        "DATA_IN_PATH = './data_in/'\n",
        "train_data = pd.read_csv(DATA_IN_PATH + 'labeledTrainData.tsv', header=0, delimiter=\"\\t\", quoting=3)\n",
        "print(train_data['review'][0])"
      ],
      "execution_count": null,
      "outputs": []
    },
    {
      "cell_type": "code",
      "metadata": {
        "id": "0w_9bxLoJH-g"
      },
      "source": [
        "review = train_data['review'][0]\n",
        "review_text = BeautifulSoup(review, \"html5lib\").get_text()\n",
        "review_text = re.sub(\"[^a-zA-Z]\", \" \", review_text)\n",
        "print(review_text)"
      ],
      "execution_count": null,
      "outputs": []
    },
    {
      "cell_type": "code",
      "metadata": {
        "id": "FWQ9Hr9yJfM8"
      },
      "source": [
        "stop_words = set(stopwords.words('english')) # 영어 불용어들의 set을 만든다.\n",
        "\n",
        "review_text = review_text.lower()\n",
        "words = review_text.split() # 소문자 변환 후 단어마다 나눠서 단어 리스트로 만든다.\n",
        "words = [w for w in words if not w in stop_words] # 불용어 제거한 리스트를 만든다"
      ],
      "execution_count": null,
      "outputs": []
    },
    {
      "cell_type": "markdown",
      "metadata": {
        "id": "xc8mYlwSCeQv"
      },
      "source": [
        "### 모델링 소개\n"
      ]
    },
    {
      "cell_type": "markdown",
      "metadata": {
        "id": "jefW6VILCfq-"
      },
      "source": [
        "### 회귀 모델\n"
      ]
    },
    {
      "cell_type": "markdown",
      "metadata": {
        "id": "YFnp1yboChZE"
      },
      "source": [
        "### TF-IDF 를 활용한 모델 구현\n"
      ]
    },
    {
      "cell_type": "markdown",
      "metadata": {
        "id": "2nDTne-ICkC5"
      },
      "source": [
        "### 랜덤 포레스트 분류 모델\n"
      ]
    },
    {
      "cell_type": "markdown",
      "metadata": {
        "id": "C4knPHZ-Cmsn"
      },
      "source": [
        "### 순환 신경망 분류 모델\n"
      ]
    },
    {
      "cell_type": "markdown",
      "metadata": {
        "id": "x84O113ZCoh7"
      },
      "source": [
        "### 컨볼루션 신경망 분류 모델\n"
      ]
    },
    {
      "cell_type": "markdown",
      "metadata": {
        "id": "tW0iO_gpCqeG"
      },
      "source": [
        "### 마무리\n"
      ]
    },
    {
      "cell_type": "markdown",
      "metadata": {
        "id": "140NFIV3CrlR"
      },
      "source": [
        "## 02 한글 텍스트 분류\n"
      ]
    },
    {
      "cell_type": "markdown",
      "metadata": {
        "id": "VKgRpCniCtob"
      },
      "source": [
        "### 문제 소개\n"
      ]
    },
    {
      "cell_type": "markdown",
      "metadata": {
        "id": "EZey2SEmCvej"
      },
      "source": [
        "### 데이터 전처리 및 분석\n"
      ]
    },
    {
      "cell_type": "markdown",
      "metadata": {
        "id": "VLx-mK1iCxbS"
      },
      "source": [
        "### 모델링\n"
      ]
    },
    {
      "cell_type": "markdown",
      "metadata": {
        "id": "c2Mc8m_ACy1p"
      },
      "source": [
        "### 참고 자료\n"
      ]
    },
    {
      "cell_type": "markdown",
      "metadata": {
        "id": "9dE9PmKVCz-X"
      },
      "source": [
        "## 03 정리\n"
      ]
    },
    {
      "cell_type": "markdown",
      "metadata": {
        "id": "rs_2MwhcCXXp"
      },
      "source": [
        ""
      ]
    },
    {
      "cell_type": "code",
      "metadata": {
        "id": "jKMRhN-v1zX-"
      },
      "source": [
        ""
      ],
      "execution_count": null,
      "outputs": []
    }
  ]
}